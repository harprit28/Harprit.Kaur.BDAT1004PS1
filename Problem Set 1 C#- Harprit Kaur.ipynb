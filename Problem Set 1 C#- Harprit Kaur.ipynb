{
 "cells": [
  {
   "cell_type": "markdown",
   "id": "bf1ef340",
   "metadata": {},
   "source": [
    "<h1><font color='#004b87'><center>BDAT 1004</center></font></h1>\n",
    "<h3><center>Problem Set 1 C#</center></h3>"
   ]
  },
  {
   "cell_type": "markdown",
   "id": "3d28f9b3",
   "metadata": {},
   "source": [
    "<h5> Question 1 What data type is each of the following</h5>"
   ]
  },
  {
   "cell_type": "markdown",
   "id": "4d8ccc9d",
   "metadata": {},
   "source": [
    "<li>5 is int </li>\n",
    "<li>5.0 is float </li>\n",
    "<li>5 > 1 is bool </li>\n",
    "<li>'5' is char </li>\n",
    "<li>5 * 2 is int</li>\n",
    "<li>'5' * 2 is string </li>\n",
    "<li>'5' + '2' is string </li>\n",
    "<li> 5 / 2 is float </li>\n",
    "<li>5 % 2 is int</li>\n",
    "<li>{5, 2, 1} is array</li>\n",
    "<li>5 == 3 is bool</li>\n",
    "<li>Pi (the number) is double</li>\n"
   ]
  },
  {
   "cell_type": "markdown",
   "id": "65563a9d",
   "metadata": {},
   "source": [
    "\n",
    "<h5>Question 2 C#\n",
    "Write (and evaluate) C# expressions that answer these questions:</h5>\n",
    "<h5>a. How many letters are there in 'Supercalifragilisticexpialidocious'?</h5>"
   ]
  },
  {
   "cell_type": "code",
   "execution_count": 1,
   "id": "129d7cd5",
   "metadata": {},
   "outputs": [
    {
     "name": "stdout",
     "output_type": "stream",
     "text": [
      "34\r\n"
     ]
    }
   ],
   "source": [
    "string strFirst;    \n",
    "strFirst = \"Supercalifragilisticexpialidocious\"; \n",
    "Console.WriteLine(strFirst.Length);"
   ]
  },
  {
   "cell_type": "markdown",
   "id": "26fec845",
   "metadata": {},
   "source": [
    "<h5>b. Does 'Supercalifragilisticexpialidocious' contain 'ice' as a substring? </h5>"
   ]
  },
  {
   "cell_type": "code",
   "execution_count": 2,
   "id": "a0d70f1f",
   "metadata": {},
   "outputs": [
    {
     "name": "stdout",
     "output_type": "stream",
     "text": [
      "True\r\n"
     ]
    }
   ],
   "source": [
    "string s1 = \"Supercalifragilisticexpialidocious\";    \n",
    "             string s2 = \"ice\";  \n",
    "             Console.WriteLine(s1.Contains(s2));   "
   ]
  },
  {
   "cell_type": "markdown",
   "id": "db73b08b",
   "metadata": {},
   "source": [
    "<h5>c. Which of the following words is the longest:\n",
    "Supercalifragilisticexpialidocious, Honorificabilitudinitatibus, or Bababadalgharaghtakamminarronnkonn?</h5>"
   ]
  },
  {
   "cell_type": "code",
   "execution_count": 3,
   "id": "4a2b6d01",
   "metadata": {},
   "outputs": [
    {
     "name": "stdout",
     "output_type": "stream",
     "text": [
      "Bababadalgharaghtakamminarronnkonn is the largest!\n"
     ]
    }
   ],
   "source": [
    "String str1,str2,str3;\n",
    "str1 = \"Supercalifragilisticexpialidocious\"; \n",
    "str2 = \"Honorificabilitudinitatibus\";\n",
    "str3 = \"Bababadalgharaghtakamminarronnkonn\";\n",
    "if (str1.Length > str2.Length) {\n",
    "            if (str1.Length > str3.Length) {\n",
    "               Console.Write(\"Supercalifragilisticexpialidocious is the largest!\\n\");\n",
    "            } else {\n",
    "               Console.Write(\"Bababadalgharaghtakamminarronnkonn is the largest!\\n\");\n",
    "         }\n",
    "      }\n",
    "      else if (str2.Length > str3.Length)\n",
    "         Console.Write(\"Honorificabilitudinitatibus is the largest!\\n\");\n",
    "      else\n",
    "         Console.Write(\"Bababadalgharaghtakamminarronnkonn is the largest!\\n\");"
   ]
  },
  {
   "cell_type": "markdown",
   "id": "aeb516e5",
   "metadata": {},
   "source": [
    "<h6>d. Which composer comes first in the dictionary: 'Berlioz', 'Borodin', 'Brian',\n",
    "'Bartok', 'Bellini', 'Buxtehude', 'Bernstein'. Which one comes last?</h6>"
   ]
  },
  {
   "cell_type": "code",
   "execution_count": 4,
   "id": "74b53d53",
   "metadata": {},
   "outputs": [
    {
     "name": "stdout",
     "output_type": "stream",
     "text": [
      "Bartok\n",
      "Bellini\n",
      "Berlioz\n",
      "Bernstein\n",
      "Borodin\n",
      "Brian\n",
      "Buxtehude\n"
     ]
    }
   ],
   "source": [
    "var names = new SortedSet<string>();\n",
    "          names.Add(\"Berlioz\");\n",
    "          names.Add(\"Borodin\");\n",
    "          names.Add(\"Brian\");\n",
    "          names.Add(\"Bartok\");\n",
    "          names.Add(\"Bellini\");\n",
    "          names.Add(\"Buxtehude\");\n",
    "          names.Add(\"Bernstein\");\n",
    "          foreach (var name in names)\n",
    "          {\n",
    "               Console.WriteLine(name);\n",
    "          }"
   ]
  },
  {
   "cell_type": "markdown",
   "id": "69b421dd",
   "metadata": {},
   "source": [
    "<h6>Question 3 C#\n",
    "Implement function triangleArea(a,b,c) that takes as input the lengths of the 3\n",
    "sides of a triangle and returns the area of the triangle. By Heron's formula, the area\n",
    "of a triangle with side lengths a, b, and c is\n",
    "s(s - a)(s -b)(s -c)\n",
    ", where\n",
    "s = (a+b+c)/2. </h6>"
   ]
  },
  {
   "cell_type": "code",
   "execution_count": 5,
   "id": "0f402468",
   "metadata": {},
   "outputs": [
    {
     "name": "stdout",
     "output_type": "stream",
     "text": [
      "1.7320508075688772"
     ]
    }
   ],
   "source": [
    "public static double triangleArea(int a, int b, int c){\n",
    " double s = (a+b+c)/2;\n",
    " double area = Math.Sqrt(s*(s-a)*(s - b)*(s - c)); \n",
    " return area;\n",
    " \n",
    "}\n",
    "double area = triangleArea(2,2,2);\n",
    "Console.Write(area);"
   ]
  },
  {
   "cell_type": "markdown",
   "id": "86b1c338",
   "metadata": {},
   "source": [
    "<h5> Question 5. Write a program in C# Sharp to separate odd and even integers in separate arrays. </h5>"
   ]
  },
  {
   "cell_type": "code",
   "execution_count": 6,
   "id": "173a7e9d",
   "metadata": {},
   "outputs": [
    {
     "ename": "Unhandled Exception",
     "evalue": "(2,1): error CS7021: Cannot declare namespace in script code",
     "output_type": "error",
     "traceback": [
      "(2,1): error CS7021: Cannot declare namespace in script code"
     ]
    }
   ],
   "source": [
    "using System;\n",
    "namespace Demo {\n",
    "   public class Program {\n",
    "      public static void Main(string[] args) {\n",
    "         int[] arr1 = new int[] {\n",
    "            77,\n",
    "            34,\n",
    "            59,\n",
    "            42,\n",
    "            99\n",
    "         };\n",
    "         int[] arr2 = new int[5];\n",
    "         int[] arr3 = new int[5];\n",
    "         int i, j = 0, k = 0;\n",
    "         for (i = 0; i < 5; i++) {\n",
    "            if (arr1[i] % 2 == 0) {\n",
    "               arr2[j] = arr1[i];\n",
    "               j++;\n",
    "            } else {\n",
    "               arr3[k] = arr1[i];\n",
    "               k++;\n",
    "            }\n",
    "         }\n",
    "         Console.WriteLine(\"Even numbers...\");\n",
    "         for (i = 0; i < j; i++) {\n",
    "            Console.WriteLine(arr2[i]);\n",
    "         }\n",
    "         Console.WriteLine(\"Odd numbers...\");\n",
    "         for (i = 0; i < k; i++) {\n",
    "            Console.WriteLine(arr3[i]);\n",
    "         }\n",
    "      }\n",
    "   }\n",
    "}\n"
   ]
  },
  {
   "cell_type": "markdown",
   "id": "e5b675ed",
   "metadata": {},
   "source": [
    "Output :\n",
    "$mcs *.cs -out:main.exe\n",
    "$mono main.exe\n",
    "Even numbers...\n",
    "34\n",
    "42\n",
    "Odd numbers...\n",
    "77\n",
    "59\n",
    "99"
   ]
  },
  {
   "cell_type": "markdown",
   "id": "2c6045ba",
   "metadata": {},
   "source": [
    "<h5>Question 5a. Write a function inside(x,y,x1,y1,x2,y2) that returns True or False\n",
    "depending on whether the point (x,y) lies in the rectangle with lower left\n",
    "corner (x1,y1) and upper right corner (x2,y2).</h5>"
   ]
  },
  {
   "cell_type": "code",
   "execution_count": 7,
   "id": "db3271c4",
   "metadata": {},
   "outputs": [
    {
     "name": "stdout",
     "output_type": "stream",
     "text": [
      "False"
     ]
    }
   ],
   "source": [
    "public static bool inside(int x, int y, int x1, int y1, int x2, int y2)\n",
    "{\n",
    "if (x > x1 && x < x2 && y > y1 && y < y2)\n",
    "    return true; \n",
    "else\n",
    "return false;\n",
    "}\n",
    " \n",
    "bool point = inside(-1,-1,0,0,2,3);\n",
    "Console.Write(point)"
   ]
  },
  {
   "cell_type": "markdown",
   "id": "ec14ad44",
   "metadata": {},
   "source": [
    "<h5>Use function inside() from part a. to write an expression that tests whether\n",
    "the point (1,1) lies in both of the following rectangles: one with lower left\n",
    "corner (0.3, 0.5) and upper right corner (1.1, 0.7) and the other with lower\n",
    "left corner (0.5, 0.2) and upper right corner (1.1, 2).</h5>"
   ]
  },
  {
   "cell_type": "code",
   "execution_count": 8,
   "id": "5e0c128c",
   "metadata": {},
   "outputs": [
    {
     "name": "stdout",
     "output_type": "stream",
     "text": [
      "False\n",
      "True\n"
     ]
    }
   ],
   "source": [
    "public static bool inside(double x, double y, double x1, double y1, double x2, double y2)\n",
    "{\n",
    "if (x > x1 && x < x2 && y > y1 && y < y2)\n",
    "    return true; \n",
    "else\n",
    "return false;\n",
    "}\n",
    " \n",
    "bool point1 = inside(1,1,0.3,0.5,1.1,0.7);\n",
    "bool point2 = inside(1,1,0.5,0.2,1.1,2);\n",
    "Console.WriteLine(point1);\n",
    "Console.WriteLine(point2);"
   ]
  }
 ],
 "metadata": {
  "kernelspec": {
   "display_name": ".NET (C#)",
   "language": "C#",
   "name": ".net-csharp"
  },
  "language_info": {
   "file_extension": ".cs",
   "mimetype": "text/x-csharp",
   "name": "C#",
   "pygments_lexer": "csharp",
   "version": "8.0"
  }
 },
 "nbformat": 4,
 "nbformat_minor": 5
}
