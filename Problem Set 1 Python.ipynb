{
 "cells": [
  {
   "cell_type": "markdown",
   "id": "4c6a0ba2",
   "metadata": {},
   "source": [
    "<h1><center><font color='#004b87'><center>BDAT 1004</center></font></center></h1>\n",
    "<h3><center>Problem Set 1 Python</center></h3>"
   ]
  },
  {
   "cell_type": "markdown",
   "id": "145887a4",
   "metadata": {},
   "source": [
    "<h5>Question 6. Write a function pig() that takes a word (i.e., a string) as input and returns its pig\u0002Latin form. Your function should still work if the input word contains upper case \n",
    "characters. Your output should always be lower case however. </h5>"
   ]
  },
  {
   "cell_type": "code",
   "execution_count": 1,
   "id": "f4049704",
   "metadata": {},
   "outputs": [
    {
     "name": "stdout",
     "output_type": "stream",
     "text": [
      "Enter a String : Happy\n",
      "appyhay\n"
     ]
    }
   ],
   "source": [
    "#refernce from stackOverflow\n",
    "\n",
    "def isVow(c):\n",
    "    return (c == 'A' or c == 'E' or c == 'I' or\n",
    "            c == 'O' or c == 'U' or c == 'a' or\n",
    "            c == 'e' or c == 'i' or c == 'o' or\n",
    "            c == 'u');\n",
    " \n",
    " \n",
    "def pig(s):\n",
    " \n",
    "    # the index of the first vowel is stored.\n",
    "    length = len(s);\n",
    "    index = -1;\n",
    "    for i in range(length):\n",
    "        if (isVow(s[i])):\n",
    "            index = i;\n",
    "            break;\n",
    " \n",
    "    # Pig Latin is possible only if vowels\n",
    "    # is present\n",
    "    if (index == -1):\n",
    "        return \"-1\";\n",
    " \n",
    "    # Take all characters after index (including\n",
    "    # index). Append all characters which are before\n",
    "    # index. Finally append \"ay\"\n",
    "    return s[index:] + s[0:index] + \"ay\";\n",
    "\n",
    "inputstring = input(\"Enter a String : \");\n",
    "str = pig(inputstring);\n",
    "if (str == \"-1\"):\n",
    "    print(\"No vowels found. Pig Latin not possible\");\n",
    "else:\n",
    "    print(str.lower());"
   ]
  },
  {
   "cell_type": "markdown",
   "id": "2a8c51b6",
   "metadata": {},
   "source": [
    "<h5>Question 7. File bloodtype1.txt records blood-types of patients (A, B, AB, O or OO) at a clinic. \n",
    "Write a function bldcount() that reads the file with name name and reports (i.e., \n",
    "prints) how many patients there are in each bloodtype</h5>"
   ]
  },
  {
   "cell_type": "code",
   "execution_count": 3,
   "id": "18565d4a",
   "metadata": {},
   "outputs": [
    {
     "name": "stdout",
     "output_type": "stream",
     "text": [
      "['AB', 'AB', 'B', 'O', 'A', 'A', 'AB', 'O', 'AB', 'A', 'O', 'O', 'A', 'A', 'A', 'O', 'O', 'O', 'AB', 'O', 'A', 'A', 'A', 'A', 'A', 'AB', 'AB', 'A', 'AB', 'O', 'AB', 'O', 'A', 'O', 'O', 'O', 'AB', 'O', 'AB', 'AB', 'AB', 'A', 'A', 'O', '\\n']\n",
      "There are 13 patients of blood type AB\n",
      "There are 15 patients of blood type A\n",
      "There are 1 patients of blood type B\n",
      "There are 15 patients of blood type O\n",
      "There are 0 patients of blood type OO\n"
     ]
    }
   ],
   "source": [
    "def bldtype(content_list):\n",
    "    countAB=content_list.count('AB')\n",
    "    print(\"There are {} patients of blood type AB\".format(countAB))\n",
    "    countA=content_list.count('A')\n",
    "    print(\"There are {} patients of blood type A\".format(countA))\n",
    "    countB=content_list.count('B')\n",
    "    print(\"There are {} patients of blood type B\".format(countB))\n",
    "    countO=content_list.count('O')\n",
    "    print(\"There are {} patients of blood type O\".format(countO))\n",
    "    countOO=content_list.count('OO')\n",
    "    print(\"There are {} patients of blood type OO\".format(countOO))\n",
    "\n",
    "\n",
    "infile = open('bloodtype1.txt','r')\n",
    "list1= infile.readline()\n",
    "#print(list1)\n",
    "content_list = list1.split(\" \")\n",
    "infile.close()\n",
    "print(content_list)\n",
    "bldtype(content_list)"
   ]
  },
  {
   "cell_type": "markdown",
   "id": "34b83bd5",
   "metadata": {},
   "source": [
    "<h5>Question 8 . Write a function curconv() that takes as input:\n",
    "1. a currency represented using a string (e.g., 'JPY' for the Japanese Yen or \n",
    "'EUR' for the Euro)\n",
    "2. an amount\n",
    "and then converts and returns the amount in US dollars</h5>"
   ]
  },
  {
   "cell_type": "code",
   "execution_count": 4,
   "id": "63cfa2ca",
   "metadata": {},
   "outputs": [
    {
     "ename": "NameError",
     "evalue": "name 'FileasList' is not defined",
     "output_type": "error",
     "traceback": [
      "\u001b[1;31m---------------------------------------------------------------------------\u001b[0m",
      "\u001b[1;31mNameError\u001b[0m                                 Traceback (most recent call last)",
      "\u001b[1;32m<ipython-input-4-03408aa8586b>\u001b[0m in \u001b[0;36m<module>\u001b[1;34m\u001b[0m\n\u001b[0;32m      8\u001b[0m     \u001b[0mi\u001b[0m\u001b[1;33m=\u001b[0m\u001b[1;36m0\u001b[0m\u001b[1;33m;\u001b[0m\u001b[1;33m\u001b[0m\u001b[1;33m\u001b[0m\u001b[0m\n\u001b[0;32m      9\u001b[0m     \u001b[1;31m#FileasList = file1.readlines()\u001b[0m\u001b[1;33m\u001b[0m\u001b[1;33m\u001b[0m\u001b[1;33m\u001b[0m\u001b[0m\n\u001b[1;32m---> 10\u001b[1;33m     \u001b[1;32mfor\u001b[0m \u001b[0mline\u001b[0m \u001b[1;32min\u001b[0m \u001b[0mFileasList\u001b[0m\u001b[1;33m:\u001b[0m\u001b[1;33m\u001b[0m\u001b[1;33m\u001b[0m\u001b[0m\n\u001b[0m\u001b[0;32m     11\u001b[0m         \u001b[0mres_dct\u001b[0m \u001b[1;33m=\u001b[0m \u001b[1;33m{\u001b[0m\u001b[0mFileasList\u001b[0m\u001b[1;33m[\u001b[0m\u001b[0mi\u001b[0m\u001b[1;33m]\u001b[0m\u001b[1;33m:\u001b[0m \u001b[0mFileasList\u001b[0m\u001b[1;33m[\u001b[0m\u001b[0mi\u001b[0m \u001b[1;33m+\u001b[0m \u001b[1;36m1\u001b[0m\u001b[1;33m]\u001b[0m \u001b[1;32mfor\u001b[0m \u001b[0mi\u001b[0m \u001b[1;32min\u001b[0m \u001b[0mrange\u001b[0m\u001b[1;33m(\u001b[0m\u001b[1;36m0\u001b[0m\u001b[1;33m,\u001b[0m \u001b[0mlen\u001b[0m\u001b[1;33m(\u001b[0m\u001b[0mFileasList\u001b[0m\u001b[1;33m)\u001b[0m\u001b[1;33m,\u001b[0m \u001b[1;36m2\u001b[0m\u001b[1;33m)\u001b[0m\u001b[1;33m}\u001b[0m\u001b[1;33m\u001b[0m\u001b[1;33m\u001b[0m\u001b[0m\n\u001b[0;32m     12\u001b[0m         \u001b[1;31m#return res_dct\u001b[0m\u001b[1;33m\u001b[0m\u001b[1;33m\u001b[0m\u001b[1;33m\u001b[0m\u001b[0m\n",
      "\u001b[1;31mNameError\u001b[0m: name 'FileasList' is not defined"
     ]
    }
   ],
   "source": [
    "\n",
    "def currconv(curr,amount):\n",
    "    for curr in FileasList:\n",
    "        rate = amount*[x for x in FileasList if isinstance(x, int)]\n",
    "        return rate\n",
    "    \n",
    "\n",
    "with open('currencies.txt', \"r\") as file1:\n",
    "    i=0;\n",
    "    #FileasList = file1.readlines()\n",
    "    for line in FileasList:\n",
    "        res_dct = {FileasList[i]: FileasList[i + 1] for i in range(0, len(FileasList), 2)}\n",
    "        #return res_dct\n",
    "        #(FileasList[i])\n",
    "        i=i+1\n",
    "\n",
    "curr = input(\"Type the currency : \")\n",
    "amount = input(\"Type the amount : \")\n",
    "currconv(curr,amount)"
   ]
  },
  {
   "cell_type": "markdown",
   "id": "727525aa",
   "metadata": {},
   "source": [
    "<h5>Question 9 Python\n",
    "Each of the following will cause an exception (an error). Identify what type of \n",
    "exception each will cause</h5>"
   ]
  },
  {
   "cell_type": "markdown",
   "id": "ed8a2927",
   "metadata": {},
   "source": [
    "<li>Trying to add incompatible variables, as in \n",
    "adding 6 + ‘a’</li>"
   ]
  },
  {
   "cell_type": "code",
   "execution_count": 5,
   "id": "f12e6a9d",
   "metadata": {},
   "outputs": [
    {
     "ename": "TypeError",
     "evalue": "unsupported operand type(s) for +: 'int' and 'str'",
     "output_type": "error",
     "traceback": [
      "\u001b[1;31m---------------------------------------------------------------------------\u001b[0m",
      "\u001b[1;31mTypeError\u001b[0m                                 Traceback (most recent call last)",
      "\u001b[1;32m<ipython-input-5-b2b4d01927c5>\u001b[0m in \u001b[0;36m<module>\u001b[1;34m\u001b[0m\n\u001b[1;32m----> 1\u001b[1;33m \u001b[1;36m6\u001b[0m\u001b[1;33m+\u001b[0m\u001b[1;34m'a'\u001b[0m\u001b[1;33m\u001b[0m\u001b[1;33m\u001b[0m\u001b[0m\n\u001b[0m\u001b[0;32m      2\u001b[0m \u001b[1;33m\u001b[0m\u001b[0m\n\u001b[0;32m      3\u001b[0m \u001b[1;31m# TypeError: unsupported operand type(s) for +: 'int' and 'str'\u001b[0m\u001b[1;33m\u001b[0m\u001b[1;33m\u001b[0m\u001b[1;33m\u001b[0m\u001b[0m\n",
      "\u001b[1;31mTypeError\u001b[0m: unsupported operand type(s) for +: 'int' and 'str'"
     ]
    }
   ],
   "source": [
    "6+'a'\n",
    "\n",
    "# TypeError: unsupported operand type(s) for +: 'int' and 'str'"
   ]
  },
  {
   "cell_type": "markdown",
   "id": "cdf23d94",
   "metadata": {},
   "source": [
    "<li>Referring to the 12th item of a list that has only 10 \n",
    "items</li>"
   ]
  },
  {
   "cell_type": "code",
   "execution_count": 6,
   "id": "3b0c8b8f",
   "metadata": {},
   "outputs": [
    {
     "ename": "IndexError",
     "evalue": "list index out of range",
     "output_type": "error",
     "traceback": [
      "\u001b[1;31m---------------------------------------------------------------------------\u001b[0m",
      "\u001b[1;31mIndexError\u001b[0m                                Traceback (most recent call last)",
      "\u001b[1;32m<ipython-input-6-94ab97b26bdc>\u001b[0m in \u001b[0;36m<module>\u001b[1;34m\u001b[0m\n\u001b[0;32m      1\u001b[0m \u001b[0mnumb\u001b[0m \u001b[1;33m=\u001b[0m \u001b[1;33m[\u001b[0m\u001b[1;34m'Hi'\u001b[0m\u001b[1;33m,\u001b[0m\u001b[1;34m'2'\u001b[0m\u001b[1;33m,\u001b[0m\u001b[1;34m'3'\u001b[0m\u001b[1;33m,\u001b[0m\u001b[1;34m'4'\u001b[0m\u001b[1;33m,\u001b[0m\u001b[1;34m'5'\u001b[0m\u001b[1;33m,\u001b[0m\u001b[1;34m'6'\u001b[0m\u001b[1;33m,\u001b[0m\u001b[1;34m'7'\u001b[0m\u001b[1;33m,\u001b[0m\u001b[1;34m'8'\u001b[0m\u001b[1;33m,\u001b[0m\u001b[1;34m'9'\u001b[0m\u001b[1;33m,\u001b[0m\u001b[1;34m'10'\u001b[0m\u001b[1;33m]\u001b[0m\u001b[1;33m\u001b[0m\u001b[1;33m\u001b[0m\u001b[0m\n\u001b[1;32m----> 2\u001b[1;33m \u001b[0mnumb\u001b[0m\u001b[1;33m[\u001b[0m\u001b[1;36m12\u001b[0m\u001b[1;33m]\u001b[0m\u001b[1;33m\u001b[0m\u001b[1;33m\u001b[0m\u001b[0m\n\u001b[0m\u001b[0;32m      3\u001b[0m \u001b[1;31m#IndexError: list index out of range\u001b[0m\u001b[1;33m\u001b[0m\u001b[1;33m\u001b[0m\u001b[1;33m\u001b[0m\u001b[0m\n",
      "\u001b[1;31mIndexError\u001b[0m: list index out of range"
     ]
    }
   ],
   "source": [
    "numb = ['Hi','2','3','4','5','6','7','8','9','10']\n",
    "numb[12]\n",
    "#IndexError: list index out of range"
   ]
  },
  {
   "cell_type": "markdown",
   "id": "fb8696f8",
   "metadata": {},
   "source": [
    "<li>Using a value that is out of range for a function’s \n",
    "input, such as calling math.sqrt(-1.0)</li>"
   ]
  },
  {
   "cell_type": "code",
   "execution_count": 7,
   "id": "d04c1cac",
   "metadata": {},
   "outputs": [
    {
     "ename": "ValueError",
     "evalue": "math domain error",
     "output_type": "error",
     "traceback": [
      "\u001b[1;31m---------------------------------------------------------------------------\u001b[0m",
      "\u001b[1;31mValueError\u001b[0m                                Traceback (most recent call last)",
      "\u001b[1;32m<ipython-input-7-b7b1055d2d80>\u001b[0m in \u001b[0;36m<module>\u001b[1;34m\u001b[0m\n\u001b[0;32m      1\u001b[0m \u001b[1;32mimport\u001b[0m \u001b[0mmath\u001b[0m\u001b[1;33m\u001b[0m\u001b[1;33m\u001b[0m\u001b[0m\n\u001b[1;32m----> 2\u001b[1;33m \u001b[0mmath\u001b[0m\u001b[1;33m.\u001b[0m\u001b[0msqrt\u001b[0m\u001b[1;33m(\u001b[0m\u001b[1;33m-\u001b[0m\u001b[1;36m1.0\u001b[0m\u001b[1;33m)\u001b[0m\u001b[1;33m\u001b[0m\u001b[1;33m\u001b[0m\u001b[0m\n\u001b[0m\u001b[0;32m      3\u001b[0m \u001b[1;31m#ValueError: math domain error\u001b[0m\u001b[1;33m\u001b[0m\u001b[1;33m\u001b[0m\u001b[1;33m\u001b[0m\u001b[0m\n",
      "\u001b[1;31mValueError\u001b[0m: math domain error"
     ]
    }
   ],
   "source": [
    "import math\n",
    "math.sqrt(-1.0)\n",
    "#ValueError: math domain error"
   ]
  },
  {
   "cell_type": "markdown",
   "id": "01d73e8f",
   "metadata": {},
   "source": [
    "<li> Using an undeclared variable, such as print(x)\n",
    "when x has not been defined </li>"
   ]
  },
  {
   "cell_type": "code",
   "execution_count": 8,
   "id": "c4320ea8",
   "metadata": {
    "scrolled": true
   },
   "outputs": [
    {
     "ename": "NameError",
     "evalue": "name 'x' is not defined",
     "output_type": "error",
     "traceback": [
      "\u001b[1;31m---------------------------------------------------------------------------\u001b[0m",
      "\u001b[1;31mNameError\u001b[0m                                 Traceback (most recent call last)",
      "\u001b[1;32m<ipython-input-8-3173dbb3a8d3>\u001b[0m in \u001b[0;36m<module>\u001b[1;34m\u001b[0m\n\u001b[1;32m----> 1\u001b[1;33m \u001b[0mprint\u001b[0m\u001b[1;33m(\u001b[0m\u001b[0mx\u001b[0m\u001b[1;33m)\u001b[0m\u001b[1;33m\u001b[0m\u001b[1;33m\u001b[0m\u001b[0m\n\u001b[0m\u001b[0;32m      2\u001b[0m \u001b[1;31m#NameError: name 'x' is not defined\u001b[0m\u001b[1;33m\u001b[0m\u001b[1;33m\u001b[0m\u001b[1;33m\u001b[0m\u001b[0m\n",
      "\u001b[1;31mNameError\u001b[0m: name 'x' is not defined"
     ]
    }
   ],
   "source": [
    "print(x)\n",
    "#NameError: name 'x' is not defined"
   ]
  },
  {
   "cell_type": "markdown",
   "id": "62ba2681",
   "metadata": {},
   "source": [
    "<li>Trying to open a file that does not exist, such as \n",
    "mistyping the file name or looking in the wrong \n",
    "directory. </li>"
   ]
  },
  {
   "cell_type": "code",
   "execution_count": 9,
   "id": "fe81dd9c",
   "metadata": {},
   "outputs": [
    {
     "ename": "FileNotFoundError",
     "evalue": "[Errno 2] No such file or directory: 'sample.txt'",
     "output_type": "error",
     "traceback": [
      "\u001b[1;31m---------------------------------------------------------------------------\u001b[0m",
      "\u001b[1;31mFileNotFoundError\u001b[0m                         Traceback (most recent call last)",
      "\u001b[1;32m<ipython-input-9-e962e041d7e2>\u001b[0m in \u001b[0;36m<module>\u001b[1;34m\u001b[0m\n\u001b[1;32m----> 1\u001b[1;33m \u001b[0mopen\u001b[0m\u001b[1;33m(\u001b[0m\u001b[1;34m'sample.txt'\u001b[0m\u001b[1;33m,\u001b[0m\u001b[1;34m'r'\u001b[0m\u001b[1;33m)\u001b[0m\u001b[1;33m\u001b[0m\u001b[1;33m\u001b[0m\u001b[0m\n\u001b[0m",
      "\u001b[1;31mFileNotFoundError\u001b[0m: [Errno 2] No such file or directory: 'sample.txt'"
     ]
    }
   ],
   "source": [
    "open('sample.txt','r')"
   ]
  },
  {
   "cell_type": "markdown",
   "id": "7cbefc72",
   "metadata": {},
   "source": [
    "<h5> Question 10 . Assume that the string letters is already defined as 'abcdefghijklmnopqrstuvwxyz'.\n",
    "Write a function called frequencies() that takes a string as its only parameter, and returns a list of integers, showing the\n",
    "number of times each character appears in the text.\n",
    "Your function may ignore any characters that are not in letters. </h5>"
   ]
  },
  {
   "cell_type": "code",
   "execution_count": 10,
   "id": "a1fa4b2d",
   "metadata": {},
   "outputs": [
    {
     "name": "stdout",
     "output_type": "stream",
     "text": [
      "Enter a word : aaacccee\n",
      "3\n",
      "0\n",
      "3\n",
      "0\n",
      "2\n",
      "0\n",
      "0\n",
      "0\n",
      "0\n",
      "0\n",
      "0\n",
      "0\n",
      "0\n",
      "0\n",
      "0\n",
      "0\n",
      "0\n",
      "0\n",
      "0\n",
      "0\n",
      "0\n",
      "0\n",
      "0\n",
      "0\n",
      "0\n",
      "0\n"
     ]
    }
   ],
   "source": [
    "#refernce from stackoverflow\n",
    "\n",
    "def frequency(word):\n",
    "    letters=['a','b','c','d','e','f','g','h','i','j','k','l','m','n','o','p','q','r','s','t','u','v','w','x','y','z']\n",
    "    for i in range(0,26):\n",
    "        print(word.count(letters[i]))\n",
    "    \n",
    "word = input(\"Enter a word : \")\n",
    "frequency(word)\n"
   ]
  }
 ],
 "metadata": {
  "kernelspec": {
   "display_name": "Python 3",
   "language": "python",
   "name": "python3"
  },
  "language_info": {
   "codemirror_mode": {
    "name": "ipython",
    "version": 3
   },
   "file_extension": ".py",
   "mimetype": "text/x-python",
   "name": "python",
   "nbconvert_exporter": "python",
   "pygments_lexer": "ipython3",
   "version": "3.8.8"
  }
 },
 "nbformat": 4,
 "nbformat_minor": 5
}
